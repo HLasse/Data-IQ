{
 "cells": [
  {
   "cell_type": "code",
   "execution_count": 2,
   "metadata": {
    "id": "4ER17PSHfGat"
   },
   "outputs": [],
   "source": [
    "import numpy as np\n",
    "import pandas as pd\n",
    "import xgboost as xgb\n",
    "from sdv.tabular import CTGAN, GaussianCopula\n",
    "from sklearn.metrics import accuracy_score\n",
    "from tqdm import tqdm\n",
    "\n",
    "import sys\n",
    "sys.path.insert(0, \"../\")\n",
    "\n",
    "# import logging\n",
    "# logger = logging.getLogger()\n",
    "# logger.setLevel(logging.INFO)\n"
   ]
  },
  {
   "cell_type": "code",
   "execution_count": 3,
   "metadata": {
    "id": "FSi5c1Ns4DFo"
   },
   "outputs": [],
   "source": [
    "from data_iq.dataiq_class import *\n",
    "from src.utils.data_loader import *\n",
    "from src.utils.utils import *\n"
   ]
  },
  {
   "cell_type": "code",
   "execution_count": 4,
   "metadata": {
    "id": "rrN5kzWxjSOJ"
   },
   "outputs": [],
   "source": [
    "def compare_datasets(dataset, nest=20):\n",
    "\n",
    "    accs = []\n",
    "    ranks = []\n",
    "\n",
    "    rawaccs = []\n",
    "    rawranks = []\n",
    "\n",
    "    # repeat multiple times and average\n",
    "    for i in tqdm(range(11)):\n",
    "\n",
    "        acc_ranks = []\n",
    "        easy_ranks = []\n",
    "\n",
    "        results_iq = {}\n",
    "\n",
    "        models = [GaussianCopula(), CTGAN()]\n",
    "        model_names = [\"GaussianCopula()\", \"CTGAN()\"]\n",
    "\n",
    "        (\n",
    "            train_loader,\n",
    "            train_data,\n",
    "            X_train,\n",
    "            y_train,\n",
    "            X_test,\n",
    "            y_test,\n",
    "            X_train_pd,\n",
    "            y_train_pd,\n",
    "            X_test_pd,\n",
    "            y_test_pd,\n",
    "            nlabels,\n",
    "            corr_vals,\n",
    "            column_ids,\n",
    "            df,\n",
    "        ) = load_dataset(dataset)\n",
    "\n",
    "        if dataset == \"covid\":\n",
    "            X_train_pd = X_train_pd.drop(columns=[\"Race\", \"SG_UF_NOT\"])\n",
    "            nest = 100\n",
    "\n",
    "        conf_thresh = 0.5\n",
    "\n",
    "        for idx, model in enumerate(models):\n",
    "            modelname = model_names[idx]\n",
    "\n",
    "            df = deepcopy(X_train_pd)\n",
    "            df[\"y\"] = deepcopy(y_train_pd)\n",
    "\n",
    "            # Fit synthetic data model used to generate the comparison dataset\n",
    "            model.fit(df)\n",
    "\n",
    "            # Sample data to train\n",
    "            nrows = int(len(df) * 0.1)\n",
    "            sampled_data = model.sample(num_rows=nrows)\n",
    "            xt = sampled_data.drop(columns=[\"y\"])\n",
    "            yt = sampled_data[\"y\"]\n",
    "\n",
    "            # TRAIN CLASSIFIER & APPLY DATA-IQ\n",
    "\n",
    "            # TRAIN ON SYNTHETIC\n",
    "            clf = xgb.XGBClassifier(n_estimators=nest)\n",
    "            clf.fit(xt, yt)\n",
    "\n",
    "            # TEST ON REAL\n",
    "            preds = clf.predict(X_test)\n",
    "\n",
    "            # ASSESS DATA-IQ & GET GROUPS\n",
    "            dataiq = DataIQ_SKLearn(X=xt, y=yt)\n",
    "            for i in range(1, nest):\n",
    "                dataiq.on_epoch_end(clf=clf, iteration=i)\n",
    "\n",
    "            aleatoric_train = dataiq.aleatoric\n",
    "            confidence_train = dataiq.confidence\n",
    "\n",
    "            mid_val = (\n",
    "                (np.max(aleatoric_train) - np.min(aleatoric_train)) / 2\n",
    "            ) + np.min(aleatoric_train)\n",
    "\n",
    "            hard_train = np.where(\n",
    "                (confidence_train <= conf_thresh) & (aleatoric_train <= mid_val)\n",
    "            )[0]\n",
    "            ambig_train = np.where((aleatoric_train >= mid_val))[0]\n",
    "            easy_train = np.where(\n",
    "                (confidence_train >= conf_thresh) & (aleatoric_train <= mid_val)\n",
    "            )[0]\n",
    "\n",
    "            total = len(aleatoric_train)\n",
    "            res = {\n",
    "                \"acc\": accuracy_score(preds, y_test),\n",
    "                \"easy\": len(easy_train) / total,\n",
    "                \"ambig\": len(ambig_train) / total,\n",
    "                \"hard\": len(hard_train) / total,\n",
    "            }\n",
    "\n",
    "            acc_ranks.append(accuracy_score(preds, y_test))\n",
    "            easy_ranks.append(len(easy_train) / total)\n",
    "            results_iq[modelname] = res\n",
    "\n",
    "        # sort the ranking and accs\n",
    "        ranks.append(np.argsort(easy_ranks))\n",
    "        accs.append(np.argsort(acc_ranks))\n",
    "\n",
    "        # appends the raw values\n",
    "        rawranks.append(easy_ranks)\n",
    "        rawaccs.append(acc_ranks)\n",
    "\n",
    "    from statistics import mode\n",
    "\n",
    "    print(\"#########################################################################\")\n",
    "    print(\"RESULTS FOR \", dataset)\n",
    "    print(\"Highest rank model: \", model_names[mode(np.argmax(rawranks, axis=1))])\n",
    "    idx = mode(np.argmax(rawranks, axis=1))\n",
    "    print(\n",
    "        f\"Proportion EASY Examples Best: {np.mean(np.array(rawranks)[:,idx])}+-{np.std(np.array(rawranks)[:,idx])}\"\n",
    "    )\n",
    "    print(\n",
    "        f\"Proportion EASY Examples Worst: {np.mean(np.array(rawranks)[:,1-idx])}+-{np.std(np.array(rawranks)[:,1-idx])}\"\n",
    "    )\n",
    "    print(\"Highest acc model: \", model_names[mode(np.argmax(rawaccs, axis=1))])\n"
   ]
  },
  {
   "cell_type": "code",
   "execution_count": 5,
   "metadata": {
    "id": "wChhQ9CGNsIG"
   },
   "outputs": [],
   "source": [
    "import warnings\n",
    "\n",
    "warnings.filterwarnings(\"ignore\")"
   ]
  },
  {
   "cell_type": "code",
   "execution_count": 6,
   "metadata": {
    "colab": {
     "base_uri": "https://localhost:8080/"
    },
    "id": "1-L9hwGGl-EF",
    "outputId": "d5a4b030-0e8f-4e13-8640-7b99a3d39dac"
   },
   "outputs": [
    {
     "name": "stderr",
     "output_type": "stream",
     "text": [
      "100%|██████████| 11/11 [09:17<00:00, 50.65s/it]"
     ]
    },
    {
     "name": "stdout",
     "output_type": "stream",
     "text": [
      "#########################################################################\n",
      "RESULTS FOR  fetal\n",
      "Highest rank model:  GaussianCopula()\n",
      "Proportion EASY Examples Best: 0.5245700245700246+-0.09002072752333024\n",
      "Proportion EASY Examples Worst: 0.40909090909090917+-0.1345615479361666\n",
      "Highest acc model:  GaussianCopula()\n"
     ]
    },
    {
     "name": "stderr",
     "output_type": "stream",
     "text": [
      "\n"
     ]
    }
   ],
   "source": [
    "compare_datasets(dataset=\"fetal\", nest=10)"
   ]
  },
  {
   "cell_type": "code",
   "execution_count": 9,
   "metadata": {
    "colab": {
     "base_uri": "https://localhost:8080/"
    },
    "id": "fC-kt72nmeR_",
    "outputId": "93ae9365-45b6-4e86-8855-f05a21e08b77"
   },
   "outputs": [
    {
     "name": "stderr",
     "output_type": "stream",
     "text": [
      "100%|██████████| 11/11 [42:17<00:00, 230.72s/it]"
     ]
    },
    {
     "name": "stdout",
     "output_type": "stream",
     "text": [
      "#########################################################################\n",
      "RESULTS FOR  covid\n",
      "Highest rank model:  CTGAN()\n",
      "Proportion EASY Examples Best: 0.7098411297440423+-0.04322549263190073\n",
      "Proportion EASY Examples Worst: 0.6315092674315976+-0.029506530345211793\n",
      "Highest acc model:  CTGAN()\n"
     ]
    },
    {
     "name": "stderr",
     "output_type": "stream",
     "text": [
      "\n"
     ]
    }
   ],
   "source": [
    "compare_datasets(dataset=\"covid\")"
   ]
  },
  {
   "cell_type": "code",
   "execution_count": 22,
   "metadata": {
    "colab": {
     "base_uri": "https://localhost:8080/"
    },
    "id": "VIJ6Or9AkEgF",
    "outputId": "1cf74768-7577-43d4-d34a-402348d1582f"
   },
   "outputs": [
    {
     "name": "stderr",
     "output_type": "stream",
     "text": [
      "100%|██████████| 11/11 [1:47:38<00:00, 587.10s/it]"
     ]
    },
    {
     "name": "stdout",
     "output_type": "stream",
     "text": [
      "#########################################################################\n",
      "RESULTS FOR  support\n",
      "Highest rank model:  CTGAN()\n",
      "Proportion EASY Examples Best: 0.5847485847485847+-0.20108960676156154\n",
      "Proportion EASY Examples Worst: 0.3684648684648684+-0.03455510295324102\n",
      "Highest acc model:  CTGAN()\n"
     ]
    },
    {
     "name": "stderr",
     "output_type": "stream",
     "text": [
      "\n"
     ]
    }
   ],
   "source": [
    "compare_datasets(dataset=\"support\")"
   ]
  },
  {
   "cell_type": "code",
   "execution_count": 16,
   "metadata": {},
   "outputs": [
    {
     "name": "stderr",
     "output_type": "stream",
     "text": [
      "100%|██████████| 11/11 [1:51:51<00:00, 610.17s/it]"
     ]
    },
    {
     "name": "stdout",
     "output_type": "stream",
     "text": [
      "#########################################################################\n",
      "RESULTS FOR  prostate\n",
      "Highest rank model:  CTGAN()\n",
      "Proportion EASY Examples Best: 0.6215249266862171+-0.059004623262449485\n",
      "Proportion EASY Examples Worst: 0.30158357771260996+-0.030938847268059504\n",
      "Highest acc model:  CTGAN()\n"
     ]
    },
    {
     "name": "stderr",
     "output_type": "stream",
     "text": [
      "\n"
     ]
    }
   ],
   "source": [
    "compare_datasets(dataset=\"prostate\")"
   ]
  }
 ],
 "metadata": {
  "accelerator": "GPU",
  "colab": {
   "collapsed_sections": [],
   "provenance": []
  },
  "kernelspec": {
   "display_name": "dataiq_env_test",
   "language": "python",
   "name": "dataiq_env_test"
  },
  "language_info": {
   "codemirror_mode": {
    "name": "ipython",
    "version": 3
   },
   "file_extension": ".py",
   "mimetype": "text/x-python",
   "name": "python",
   "nbconvert_exporter": "python",
   "pygments_lexer": "ipython3",
   "version": "3.7.12"
  }
 },
 "nbformat": 4,
 "nbformat_minor": 1
}
